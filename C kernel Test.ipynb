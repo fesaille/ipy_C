{
 "cells": [
  {
   "cell_type": "code",
   "execution_count": 1,
   "metadata": {},
   "outputs": [
    {
     "name": "stdout",
     "output_type": "stream",
     "text": [
      "Hello world C\n"
     ]
    }
   ],
   "source": [
    "#include <stdio.h>\n",
    "\n",
    "int main() {\n",
    "    int a;\n",
    "    char c[] = \"ABC\";\n",
    "    char *b;\n",
    "    a = 34;\n",
    "    b = &c[2];\n",
    "    printf(\"Hello world %s\\n\", b);\n",
    "}"
   ]
  },
  {
   "cell_type": "code",
   "execution_count": 2,
   "metadata": {},
   "outputs": [
    {
     "name": "stdout",
     "output_type": "stream",
     "text": [
      "The integer is 2\n"
     ]
    }
   ],
   "source": [
    "#include <stdio.h>\n",
    "\n",
    "int main()\n",
    "{\n",
    "  int a = 2;\n",
    "\n",
    "  printf(\"The integer is %d\\n\", a);\n",
    "\n",
    "  return 0;\n",
    "}"
   ]
  },
  {
   "cell_type": "markdown",
   "metadata": {},
   "source": [
    "# Titre"
   ]
  },
  {
   "cell_type": "code",
   "execution_count": 1,
   "metadata": {},
   "outputs": [
    {
     "name": "stdout",
     "output_type": "stream",
     "text": [
      "HaoHao"
     ]
    }
   ],
   "source": [
    "#include <stdio.h>\n",
    "int main(void) {\n",
    "  char name[] = \"Harry Potter\";\n",
    "  printf(\"%c\", *name);     // Output: H\n",
    "  printf(\"%c\", *(name+1));   // Output: a\n",
    "  printf(\"%c\", *(name+7));   // Output: o\n",
    "\n",
    "  char *namePtr;\n",
    "  namePtr = name;\n",
    "  printf(\"%c\", *namePtr);     // Output: H\n",
    "  printf(\"%c\", *(namePtr+1));   // Output: a\n",
    "  printf(\"%c\", *(namePtr+7));   // Output: o\n",
    "}"
   ]
  },
  {
   "cell_type": "code",
   "execution_count": 1,
   "metadata": {},
   "outputs": [
    {
     "name": "stdout",
     "output_type": "stream",
     "text": [
      "\n",
      "Enter Number 1: Enter Number 2: Enter Number 3: Enter Number 4: Enter Number 5: Enter Number 6: Enter Number 7: Enter Number 8: Enter Number 9: Enter Number 10: "
     ]
    }
   ],
   "source": [
    "#include <stdio.h>\n",
    "#include <stdlib.h>\n",
    "int main()\n",
    "{\n",
    "    int i, num=10;\n",
    "    float *data;\n",
    "\n",
    "    // Allocates the memory for 'num' elements.\n",
    "    data = (float*) calloc(num, sizeof(float));\n",
    "    if(data == NULL)\n",
    "    {\n",
    "        printf(\"Error!!! memory not allocated.\");\n",
    "        exit(0);\n",
    "    }\n",
    "    printf(\"\\n\");\n",
    "    // Stores the number entered by the user.\n",
    "    for(i = 0; i < num; ++i)\n",
    "    {\n",
    "       printf(\"Enter Number %d: \", i + 1);\n",
    "       scanf(\"%f\", data + i);\n",
    "    }\n",
    "}\n",
    "   "
   ]
  },
  {
   "cell_type": "code",
   "execution_count": 1,
   "metadata": {},
   "outputs": [
    {
     "name": "stdout",
     "output_type": "stream",
     "text": [
      "The page size for this system is 4096 bytes.\n"
     ]
    }
   ],
   "source": [
    "#include <stdio.h>\n",
    "#include <unistd.h> /* sysconf(3) */\n",
    "\n",
    "int main(void)\n",
    "{\n",
    "     printf(\"The page size for this system is %ld bytes.\\n\",\n",
    "        sysconf(_SC_PAGESIZE)); /* _SC_PAGE_SIZE is OK too. */\n",
    "\n",
    "    return 0;\n",
    "}\n"
   ]
  },
  {
   "cell_type": "code",
   "execution_count": null,
   "metadata": {},
   "outputs": [],
   "source": []
  }
 ],
 "metadata": {
  "kernelspec": {
   "display_name": "C",
   "language": "c",
   "name": "c"
  },
  "language_info": {
   "file_extension": ".c",
   "mimetype": "text/plain",
   "name": "c"
  }
 },
 "nbformat": 4,
 "nbformat_minor": 4
}
