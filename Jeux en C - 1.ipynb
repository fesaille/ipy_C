{
 "cells": [
  {
   "cell_type": "code",
   "execution_count": 125,
   "metadata": {},
   "outputs": [
    {
     "name": "stderr",
     "output_type": "stream",
     "text": [
      "/tmp/tmpmr2p5q5y.c:2:10: fatal error: tlphi_hdr.h: No such file or directory\n",
      " #include <tlphi_hdr.h>\n",
      "          ^~~~~~~~~~~~~\n",
      "compilation terminated.\n",
      "[C kernel] GCC exited with code 1, the executable will not be executed"
     ]
    }
   ],
   "source": [
    "//%cflags:-ltlphi_hdr\n",
    "#include <tlphi_hdr.h>\n",
    "\n",
    "int main() {\n",
    "    int sem_wait(sem_t *sem);\n",
    "    \n",
    "    return 0\n",
    "    \n",
    "}"
   ]
  },
  {
   "cell_type": "code",
   "execution_count": 75,
   "metadata": {},
   "outputs": [
    {
     "name": "stdout",
     "output_type": "stream",
     "text": [
      "val= 18.849556\n",
      "a = 3.000000, sin(a) = 2.660049"
     ]
    }
   ],
   "source": [
    "//%cflags:-lm\n",
    "\n",
    "#include <stdio.h>\n",
    "#include <math.h>\n",
    "\n",
    "#define PI 3.14159265\n",
    "\n",
    "double calc(int* a) {\n",
    "    double val = PI * 3 * *a;\n",
    "    *a = 3;\n",
    "    printf(\"val= %lf\\n\", val);\n",
    "    return val;\n",
    "}\n",
    "\n",
    "int main() {\n",
    "    int a = 2;\n",
    "    double val = calc(&a) * sin(a);\n",
    "    printf(\"a = %lf, sin(a) = %lf\", (double)a, val);\n",
    "    \n",
    "    return 0;\n",
    "}"
   ]
  },
  {
   "cell_type": "code",
   "execution_count": 119,
   "metadata": {},
   "outputs": [
    {
     "name": "stdout",
     "output_type": "stream",
     "text": [
      "index=0, a[i]=0\n",
      "index=1, a[i]=3\n",
      "index=2, a[i]=6\n",
      "index=3, a[i]=9\n",
      "index=4, a[i]=12\n",
      "index=5, a[i]=15\n",
      "index=6, a[i]=18\n",
      "index=7, a[i]=21\n",
      "index=8, a[i]=24\n",
      "index=9, a[i]=27\n"
     ]
    }
   ],
   "source": [
    "#include <stdio.h>\n",
    "#include <stdlib.h>\n",
    "\n",
    "int main() {\n",
    "\n",
    "    int n = 10;\n",
    "    int a[n];\n",
    "    \n",
    "    int *ptr = a;\n",
    "    \n",
    "    for (int i = 0; ptr < a + n; ptr++, i++) {\n",
    "      *ptr = i * 3;\n",
    "      printf(\"index=%i, a[i]=%i\\n\", i, *(a + i));\n",
    "    }\n",
    "    \n",
    "}\n"
   ]
  },
  {
   "cell_type": "code",
   "execution_count": 99,
   "metadata": {},
   "outputs": [
    {
     "name": "stdout",
     "output_type": "stream",
     "text": [
      "index=0, a[i]=0\n",
      "index=1, a[i]=2\n",
      "index=2, a[i]=4\n",
      "index=3, a[i]=6\n",
      "index=4, a[i]=8\n",
      "index=5, a[i]=10\n",
      "index=6, a[i]=12\n",
      "index=7, a[i]=14\n",
      "index=8, a[i]=16\n",
      "index=9, a[i]=18\n"
     ]
    }
   ],
   "source": [
    "#include <stdio.h>\n",
    "#include <stdlib.h>\n",
    "\n",
    "int main() {\n",
    "\n",
    "    int n = 10;\n",
    "    int a[n];\n",
    "        \n",
    "    for (int i = 0; i < n; i++) {\n",
    "     a[i] = i * 2;\n",
    "      printf(\"index=%i, a[i]=%i\\n\", i, a[i]);\n",
    "    }\n",
    "}\n"
   ]
  },
  {
   "cell_type": "code",
   "execution_count": 94,
   "metadata": {},
   "outputs": [
    {
     "name": "stdout",
     "output_type": "stream",
     "text": [
      "index=0.000000\n",
      "index=0.000000\n",
      "index=0.000000\n",
      "index=0.000000\n",
      "index=0.000000\n",
      "index=0.000000\n",
      "index=0.000000\n",
      "index=0.000000\n",
      "index=0.000000\n",
      "index=0.000000\n"
     ]
    }
   ],
   "source": [
    "#include <stdio.h>\n",
    "#include <stdlib.h>\n",
    "\n",
    "int main() {\n",
    "\n",
    "    int n = 10;\n",
    "    float *fptr = malloc( n * sizeof(float));\n",
    "    \n",
    "    register float *last = fptr + n;\n",
    "    *\n",
    "    if ( fptr == NULL)\n",
    "        printf(\"Hep\");\n",
    "    \n",
    "    for (; fptr < last; fptr++)\n",
    "      printf(\"index=%f\\n\", *fptr);\n",
    "    \n",
    "    \n",
    "}\n"
   ]
  },
  {
   "cell_type": "code",
   "execution_count": null,
   "metadata": {},
   "outputs": [],
   "source": []
  }
 ],
 "metadata": {
  "kernelspec": {
   "display_name": "C",
   "language": "c",
   "name": "c"
  },
  "language_info": {
   "file_extension": ".c",
   "mimetype": "text/plain",
   "name": "c"
  }
 },
 "nbformat": 4,
 "nbformat_minor": 4
}
